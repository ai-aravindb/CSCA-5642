{
 "cells": [
  {
   "cell_type": "markdown",
   "id": "58034a56-fa23-4cc9-a5cc-d84ab4aeb5b9",
   "metadata": {},
   "source": [
    "Disaster Tweets\n",
    "University of Colorado Boulder\n",
    "\n",
    "CSCA 5642 Week 4\n",
    "\n",
    "# Disaster Tweet Classification with GRUs\n",
    "\n",
    "---\n",
    "\n",
    "## Background\n",
    "\n",
    "Twitter serves as a vital channel for real-time human connection and news. During emergencies, users share updates as events unfold, providing immediate warnings that support disaster response teams and emergency services.\n",
    "\n",
    "---\n",
    "\n",
    "## Challenge\n",
    "\n",
    "Effectively monitoring Twitter for genuine disaster reports is difficult because not every tweet containing disaster-related terms describes an actual event. Many keywords overlap with informal expressions or exaggerations.\n",
    "\n",
    "---\n",
    "\n",
    "## Solution Approach\n",
    "\n",
    "This project develops a machine learning pipeline that employs natural language processing and recurrent neural networks to filter true disaster reports from figurative language. The core model uses gated recurrent units (GRUs) to capture the sequential patterns in text.\n",
    "\n",
    "---\n",
    "\n",
    "## Data\n",
    "\n",
    "The dataset comprises 10,000 hand-classified tweets. Each tweet is labeled as either real disaster (1) or not (0).\n",
    "\n",
    "---\n",
    "\n",
    "## Notebook Workflow\n",
    "\n",
    "1. Explore the tweet dataset  \n",
    "2. Preprocess tweet text  \n",
    "3. Build and compile a GRU model  \n",
    "4. Train and evaluate the model  \n",
    "5. Fine-tune hyperparameters for optimal performance\n",
    "Import Modules"
   ]
  },
  {
   "cell_type": "code",
   "execution_count": 1,
   "id": "22e73a0e-5d1f-461f-af6c-9b0047506244",
   "metadata": {},
   "outputs": [
    {
     "name": "stdout",
     "output_type": "stream",
     "text": [
      "TensorFlow version: 2.19.0\n"
     ]
    }
   ],
   "source": [
    "import numpy as np # linear algebra\n",
    "import pandas as pd # data processing, CSV file I/O (e.g. pd.read_csv)\n",
    "import tensorflow as tf\n",
    "#import keras_core as keras\n",
    "#import keras_nlp\n",
    "from sklearn.metrics import ConfusionMatrixDisplay, confusion_matrix\n",
    "import seaborn as sns\n",
    "import matplotlib.pyplot as plt\n",
    "\n",
    "print(\"TensorFlow version:\", tf.__version__)\n",
    "#print(\"KerasNLP version:\", keras_nlp.__version__)\n",
    "\n",
    "from tensorflow.keras.preprocessing.text import Tokenizer\n",
    "from tensorflow.keras.preprocessing.sequence import pad_sequences\n",
    "from sklearn.model_selection import train_test_split\n"
   ]
  },
  {
   "cell_type": "markdown",
   "id": "23717300-b6dd-4172-891f-079225af8df2",
   "metadata": {},
   "source": [
    "### Load Data"
   ]
  },
  {
   "cell_type": "code",
   "execution_count": 2,
   "id": "3a358e8c-d67c-4bd5-a6cb-768db099e79e",
   "metadata": {},
   "outputs": [],
   "source": [
    "df_train = pd.read_csv(\"./data/train.csv\")\n",
    "df_test = pd.read_csv(\"./data/test.csv\")"
   ]
  },
  {
   "cell_type": "markdown",
   "id": "03421056-b41f-4241-b61e-d296c6e35ec6",
   "metadata": {},
   "source": [
    "### Explore Data"
   ]
  },
  {
   "cell_type": "code",
   "execution_count": 4,
   "id": "815f39c6-9cf9-4ad9-9846-64d7afa99e98",
   "metadata": {},
   "outputs": [
    {
     "name": "stdout",
     "output_type": "stream",
     "text": [
      "Training Set Shape = (7613, 5)\n",
      "Training Set Memory Usage = 0.29 MB\n",
      "Test Set Shape = (3263, 4)\n",
      "Test Set Memory Usage = 0.10 MB\n"
     ]
    }
   ],
   "source": [
    "print('Training Set Shape = {}'.format(df_train.shape))\n",
    "print('Training Set Memory Usage = {:.2f} MB'.format(df_train.memory_usage().sum() / 1024**2))\n",
    "print('Test Set Shape = {}'.format(df_test.shape))\n",
    "print('Test Set Memory Usage = {:.2f} MB'.format(df_test.memory_usage().sum() / 1024**2))"
   ]
  },
  {
   "cell_type": "code",
   "execution_count": 5,
   "id": "49bf5782-7d0f-41cc-8915-d7fa955ccbf3",
   "metadata": {},
   "outputs": [
    {
     "data": {
      "text/html": [
       "<div>\n",
       "<style scoped>\n",
       "    .dataframe tbody tr th:only-of-type {\n",
       "        vertical-align: middle;\n",
       "    }\n",
       "\n",
       "    .dataframe tbody tr th {\n",
       "        vertical-align: top;\n",
       "    }\n",
       "\n",
       "    .dataframe thead th {\n",
       "        text-align: right;\n",
       "    }\n",
       "</style>\n",
       "<table border=\"1\" class=\"dataframe\">\n",
       "  <thead>\n",
       "    <tr style=\"text-align: right;\">\n",
       "      <th></th>\n",
       "      <th>id</th>\n",
       "      <th>keyword</th>\n",
       "      <th>location</th>\n",
       "      <th>text</th>\n",
       "      <th>target</th>\n",
       "    </tr>\n",
       "  </thead>\n",
       "  <tbody>\n",
       "    <tr>\n",
       "      <th>0</th>\n",
       "      <td>1</td>\n",
       "      <td>NaN</td>\n",
       "      <td>NaN</td>\n",
       "      <td>Our Deeds are the Reason of this #earthquake M...</td>\n",
       "      <td>1</td>\n",
       "    </tr>\n",
       "    <tr>\n",
       "      <th>1</th>\n",
       "      <td>4</td>\n",
       "      <td>NaN</td>\n",
       "      <td>NaN</td>\n",
       "      <td>Forest fire near La Ronge Sask. Canada</td>\n",
       "      <td>1</td>\n",
       "    </tr>\n",
       "    <tr>\n",
       "      <th>2</th>\n",
       "      <td>5</td>\n",
       "      <td>NaN</td>\n",
       "      <td>NaN</td>\n",
       "      <td>All residents asked to 'shelter in place' are ...</td>\n",
       "      <td>1</td>\n",
       "    </tr>\n",
       "    <tr>\n",
       "      <th>3</th>\n",
       "      <td>6</td>\n",
       "      <td>NaN</td>\n",
       "      <td>NaN</td>\n",
       "      <td>13,000 people receive #wildfires evacuation or...</td>\n",
       "      <td>1</td>\n",
       "    </tr>\n",
       "    <tr>\n",
       "      <th>4</th>\n",
       "      <td>7</td>\n",
       "      <td>NaN</td>\n",
       "      <td>NaN</td>\n",
       "      <td>Just got sent this photo from Ruby #Alaska as ...</td>\n",
       "      <td>1</td>\n",
       "    </tr>\n",
       "  </tbody>\n",
       "</table>\n",
       "</div>"
      ],
      "text/plain": [
       "   id keyword location                                               text  \\\n",
       "0   1     NaN      NaN  Our Deeds are the Reason of this #earthquake M...   \n",
       "1   4     NaN      NaN             Forest fire near La Ronge Sask. Canada   \n",
       "2   5     NaN      NaN  All residents asked to 'shelter in place' are ...   \n",
       "3   6     NaN      NaN  13,000 people receive #wildfires evacuation or...   \n",
       "4   7     NaN      NaN  Just got sent this photo from Ruby #Alaska as ...   \n",
       "\n",
       "   target  \n",
       "0       1  \n",
       "1       1  \n",
       "2       1  \n",
       "3       1  \n",
       "4       1  "
      ]
     },
     "execution_count": 5,
     "metadata": {},
     "output_type": "execute_result"
    }
   ],
   "source": [
    "# Set global option to display all rows\n",
    "pd.set_option('display.max_rows', None)\n",
    "\n",
    "df_train.head()"
   ]
  },
  {
   "cell_type": "code",
   "execution_count": 6,
   "id": "be218d2b-7a70-4293-9b14-6e644769dc09",
   "metadata": {},
   "outputs": [
    {
     "data": {
      "text/html": [
       "<div>\n",
       "<style scoped>\n",
       "    .dataframe tbody tr th:only-of-type {\n",
       "        vertical-align: middle;\n",
       "    }\n",
       "\n",
       "    .dataframe tbody tr th {\n",
       "        vertical-align: top;\n",
       "    }\n",
       "\n",
       "    .dataframe thead th {\n",
       "        text-align: right;\n",
       "    }\n",
       "</style>\n",
       "<table border=\"1\" class=\"dataframe\">\n",
       "  <thead>\n",
       "    <tr style=\"text-align: right;\">\n",
       "      <th></th>\n",
       "      <th>id</th>\n",
       "      <th>keyword</th>\n",
       "      <th>location</th>\n",
       "      <th>text</th>\n",
       "    </tr>\n",
       "  </thead>\n",
       "  <tbody>\n",
       "    <tr>\n",
       "      <th>0</th>\n",
       "      <td>0</td>\n",
       "      <td>NaN</td>\n",
       "      <td>NaN</td>\n",
       "      <td>Just happened a terrible car crash</td>\n",
       "    </tr>\n",
       "    <tr>\n",
       "      <th>1</th>\n",
       "      <td>2</td>\n",
       "      <td>NaN</td>\n",
       "      <td>NaN</td>\n",
       "      <td>Heard about #earthquake is different cities, s...</td>\n",
       "    </tr>\n",
       "    <tr>\n",
       "      <th>2</th>\n",
       "      <td>3</td>\n",
       "      <td>NaN</td>\n",
       "      <td>NaN</td>\n",
       "      <td>there is a forest fire at spot pond, geese are...</td>\n",
       "    </tr>\n",
       "    <tr>\n",
       "      <th>3</th>\n",
       "      <td>9</td>\n",
       "      <td>NaN</td>\n",
       "      <td>NaN</td>\n",
       "      <td>Apocalypse lighting. #Spokane #wildfires</td>\n",
       "    </tr>\n",
       "    <tr>\n",
       "      <th>4</th>\n",
       "      <td>11</td>\n",
       "      <td>NaN</td>\n",
       "      <td>NaN</td>\n",
       "      <td>Typhoon Soudelor kills 28 in China and Taiwan</td>\n",
       "    </tr>\n",
       "  </tbody>\n",
       "</table>\n",
       "</div>"
      ],
      "text/plain": [
       "   id keyword location                                               text\n",
       "0   0     NaN      NaN                 Just happened a terrible car crash\n",
       "1   2     NaN      NaN  Heard about #earthquake is different cities, s...\n",
       "2   3     NaN      NaN  there is a forest fire at spot pond, geese are...\n",
       "3   9     NaN      NaN           Apocalypse lighting. #Spokane #wildfires\n",
       "4  11     NaN      NaN      Typhoon Soudelor kills 28 in China and Taiwan"
      ]
     },
     "execution_count": 6,
     "metadata": {},
     "output_type": "execute_result"
    }
   ],
   "source": [
    "df_test.head()"
   ]
  },
  {
   "cell_type": "code",
   "execution_count": 7,
   "id": "a5574278-5030-4841-b2ec-afcb9ed8eaf9",
   "metadata": {},
   "outputs": [
    {
     "name": "stdout",
     "output_type": "stream",
     "text": [
      "Train Length Stat\n",
      "count    7613.000000\n",
      "mean      101.037436\n",
      "std        33.781325\n",
      "min         7.000000\n",
      "25%        78.000000\n",
      "50%       107.000000\n",
      "75%       133.000000\n",
      "max       157.000000\n",
      "Name: length, dtype: float64\n",
      "\n",
      "Test Length Stat\n",
      "count    3263.000000\n",
      "mean      102.108183\n",
      "std        33.972158\n",
      "min         5.000000\n",
      "25%        78.000000\n",
      "50%       109.000000\n",
      "75%       134.000000\n",
      "max       151.000000\n",
      "Name: length, dtype: float64\n"
     ]
    }
   ],
   "source": [
    "df_train[\"length\"] = df_train[\"text\"].apply(lambda x : len(x))\n",
    "df_test[\"length\"] = df_test[\"text\"].apply(lambda x : len(x))\n",
    "\n",
    "print(\"Train Length Stat\")\n",
    "print(df_train[\"length\"].describe())\n",
    "print()\n",
    "\n",
    "print(\"Test Length Stat\")\n",
    "print(df_test[\"length\"].describe())"
   ]
  },
  {
   "cell_type": "code",
   "execution_count": 31,
   "id": "2899199a-71e4-4260-b681-b65c0be69e92",
   "metadata": {},
   "outputs": [
    {
     "name": "stdout",
     "output_type": "stream",
     "text": [
      "Total unique keywords (including NaN): 221\n",
      "\n"
     ]
    },
    {
     "data": {
      "image/png": "[encoded data removed]",
      "text/plain": [
       "<Figure size 1400x700 with 1 Axes>"
      ]
     },
     "metadata": {},
     "output_type": "display_data"
    }
   ],
   "source": [
    "keyword_target_counts = df_train.groupby(['keyword', 'target']).size().unstack(fill_value=0)\n",
    "\n",
    "if df_train['keyword'].isna().any():\n",
    "\n",
    "    if 'unknown' in keyword_target_counts.index:\n",
    "        keyword_target_counts = keyword_target_counts.rename(index={'unknown': 'NaN'})\n",
    "\n",
    "top_keywords = keyword_target_counts.sum(axis=1).sort_values(ascending=False).head(25).index\n",
    "\n",
    "plot_data = keyword_target_counts.loc[top_keywords]\n",
    "\n",
    "print(f\"Total unique keywords (including NaN): {len(keyword_target_counts)}\\n\")\n",
    "\n",
    "# plot\n",
    "fig, ax = plt.subplots(figsize=(14, 7))\n",
    "plot_data.plot(kind='bar', color=['#FF9999', '#66B2FF'], ax=ax)\n",
    "plt.title('Top 25 Keywords by Target (Disaster vs. Non-Disaster)')\n",
    "plt.xlabel('Keyword')\n",
    "plt.ylabel('Count')\n",
    "plt.xticks(rotation=90)\n",
    "plt.legend(['Non-Disaster (0)', 'Disaster (1)'])\n",
    "plt.tight_layout()\n",
    "plt.show()"
   ]
  },
  {
   "cell_type": "markdown",
   "id": "2ee2a17c-196e-4320-a460-b48f05342d97",
   "metadata": {},
   "source": [
    "From the above, we can infer that on social media, folks use the same word for a true disaster and as an exaggeration for their social media. "
   ]
  },
  {
   "cell_type": "markdown",
   "id": "178cbb06-e1ef-4d8e-a496-53f8666dda56",
   "metadata": {},
   "source": [
    "At a high level for the next steps, let us clean the text (simple steps only) and then apply the classification approach and see what our first level of analysis shows us"
   ]
  },
  {
   "cell_type": "markdown",
   "id": "d6e17f16-e10e-4cdf-8668-7f51d1610294",
   "metadata": {},
   "source": [
    "### Clean Text\n",
    "The function below uses regex to remove URLs, usernames, hashtags, punctuation, and digits characters."
   ]
  },
  {
   "cell_type": "code",
   "execution_count": 8,
   "id": "1aec2dbe-2e74-4983-962b-b6af59e3d081",
   "metadata": {},
   "outputs": [],
   "source": [
    "# Optional: Drop unused columns\n",
    "#df_train = df_train.drop(columns=['id', 'keyword', 'location'])\n",
    "import re\n",
    "\n",
    "import nltk\n",
    "from nltk.corpus import stopwords     # Import the stopwords object\n",
    "from nltk.stem import WordNetLemmatizer\n",
    "\n",
    "# Initialize tools\n",
    "stop_words = set(stopwords.words('english'))\n",
    "lemmatizer = WordNetLemmatizer()\n",
    "\n",
    "# Text cleaning function\n",
    "def clean_text(text):\n",
    "    text = text.lower()\n",
    "    text = re.sub(r\"http\\S+|www\\S+|https\\S+\", '', text)  # Remove URLs\n",
    "    text = re.sub(r'\\@\\w+|\\#','', text)  # Remove mentions and hashtags\n",
    "    text = re.sub(r'[^\\w\\s]', '', text)  # Remove punctuation\n",
    "    text = re.sub(r'\\d+', '', text)      # Remove digits\n",
    "    tokens = nltk.word_tokenize(text)\n",
    "    #tokens = [lemmatizer.lemmatize(word) for word in tokens if word not in stop_words]\n",
    "    return ' '.join(tokens)\n",
    "\n",
    "# Apply cleaning for train\n",
    "df_train['cleaned_text'] = df_train['text'].apply(clean_text)"
   ]
  },
  {
   "cell_type": "markdown",
   "id": "959f4e8f-d8c0-44a0-adb7-155eaae1d9e8",
   "metadata": {},
   "source": [
    "Do this for both train and test"
   ]
  },
  {
   "cell_type": "code",
   "execution_count": 9,
   "id": "cf589a2a-d974-4352-817e-b8f78817d380",
   "metadata": {},
   "outputs": [],
   "source": [
    "# Apply cleaning for test\n",
    "df_test['cleaned_text'] = df_test['text'].apply(clean_text)"
   ]
  },
  {
   "cell_type": "code",
   "execution_count": 10,
   "id": "09e161b7-2346-4614-a439-2505b99ebddd",
   "metadata": {},
   "outputs": [
    {
     "name": "stdout",
     "output_type": "stream",
     "text": [
      "                                                text  \\\n",
      "0  Our Deeds are the Reason of this #earthquake M...   \n",
      "1             Forest fire near La Ronge Sask. Canada   \n",
      "2  All residents asked to 'shelter in place' are ...   \n",
      "3  13,000 people receive #wildfires evacuation or...   \n",
      "4  Just got sent this photo from Ruby #Alaska as ...   \n",
      "\n",
      "                                        cleaned_text  target  \n",
      "0  our deeds are the reason of this earthquake ma...       1  \n",
      "1              forest fire near la ronge sask canada       1  \n",
      "2  all residents asked to shelter in place are be...       1  \n",
      "3  people receive wildfires evacuation orders in ...       1  \n",
      "4  just got sent this photo from ruby alaska as s...       1  \n"
     ]
    }
   ],
   "source": [
    "# Preview\n",
    "print(df_train[['text', 'cleaned_text', 'target']].head())"
   ]
  },
  {
   "cell_type": "markdown",
   "id": "79bd46f9-a87b-430e-8f35-9c6e2c6b2b53",
   "metadata": {},
   "source": [
    "### Tokenization\n",
    "Get the columns for train and test into 2 lists for tokenization"
   ]
  },
  {
   "cell_type": "code",
   "execution_count": 11,
   "id": "90488a8a-e14d-45f8-8790-4cccf56c6d30",
   "metadata": {},
   "outputs": [
    {
     "data": {
      "text/plain": [
       "['our deeds are the reason of this earthquake may allah forgive us all',\n",
       " 'forest fire near la ronge sask canada',\n",
       " 'all residents asked to shelter in place are being notified by officers no other evacuation or shelter in place orders are expected',\n",
       " 'people receive wildfires evacuation orders in california',\n",
       " 'just got sent this photo from ruby alaska as smoke from wildfires pours into a school',\n",
       " 'rockyfire update california hwy closed in both directions due to lake county fire cafire wildfires',\n",
       " 'flood disaster heavy rain causes flash flooding of streets in manitou colorado springs areas',\n",
       " 'im on top of the hill and i can see a fire in the woods',\n",
       " 'theres an emergency evacuation happening now in the building across the street',\n",
       " 'im afraid that the tornado is coming to our area']"
      ]
     },
     "execution_count": 11,
     "metadata": {},
     "output_type": "execute_result"
    }
   ],
   "source": [
    "train_text = df_train['cleaned_text'].tolist()\n",
    "train_text[:10]"
   ]
  },
  {
   "cell_type": "code",
   "execution_count": 12,
   "id": "122582a2-f32f-4741-97d2-0e603f6b4397",
   "metadata": {},
   "outputs": [
    {
     "data": {
      "text/plain": [
       "['just happened a terrible car crash',\n",
       " 'heard about earthquake is different cities stay safe everyone',\n",
       " 'there is a forest fire at spot pond geese are fleeing across the street i can not save them all',\n",
       " 'apocalypse lighting spokane wildfires',\n",
       " 'typhoon soudelor kills in china and taiwan',\n",
       " 'were shakingits an earthquake',\n",
       " 'theyd probably still show more life than arsenal did yesterday eh eh',\n",
       " 'hey how are you',\n",
       " 'what a nice hat',\n",
       " 'fuck off']"
      ]
     },
     "execution_count": 12,
     "metadata": {},
     "output_type": "execute_result"
    }
   ],
   "source": [
    "test_text = df_test['cleaned_text'].tolist()\n",
    "test_text[:10]"
   ]
  },
  {
   "cell_type": "code",
   "execution_count": 13,
   "id": "dcc7e17b-420b-4101-9ae1-7b263dd52ab6",
   "metadata": {},
   "outputs": [],
   "source": [
    "y = df_train['target']"
   ]
  },
  {
   "cell_type": "markdown",
   "id": "c2ea6e57-619c-4941-988b-610ca4b08ee0",
   "metadata": {},
   "source": [
    "acknowledgement for the code on tokenizer: https://kgptalkie.com/word-embedding-and-nlp-with-tf2-0-and-keras-on-twitter-sentiment-data/"
   ]
  },
  {
   "cell_type": "code",
   "execution_count": 14,
   "id": "c0ba34ad-ba7a-4557-8db1-ffbecd0b1ada",
   "metadata": {},
   "outputs": [
    {
     "data": {
      "text/plain": [
       "<keras.src.legacy.preprocessing.text.Tokenizer at 0x18101d33350>"
      ]
     },
     "execution_count": 14,
     "metadata": {},
     "output_type": "execute_result"
    }
   ],
   "source": [
    "from tensorflow.keras.preprocessing.text import Tokenizer\n",
    "from tensorflow.keras.preprocessing.sequence import pad_sequences\n",
    "\n",
    "token = Tokenizer()\n",
    "token.fit_on_texts(train_text + test_text)\n",
    "token"
   ]
  },
  {
   "cell_type": "code",
   "execution_count": 15,
   "id": "461d068b-26b7-4003-92fc-512d699a69c6",
   "metadata": {},
   "outputs": [
    {
     "data": {
      "text/plain": [
       "18547"
      ]
     },
     "execution_count": 15,
     "metadata": {},
     "output_type": "execute_result"
    }
   ],
   "source": [
    "vocab_size = len(token.word_index) + 1\n",
    "vocab_size"
   ]
  },
  {
   "cell_type": "markdown",
   "id": "d06b35ee-c26b-41d0-b53b-91f1269d12fd",
   "metadata": {},
   "source": [
    "\n",
    "What the dictionary looks like"
   ]
  },
  {
   "cell_type": "code",
   "execution_count": 16,
   "id": "67674fc2-3a60-48c2-b68a-ea86597eb4f6",
   "metadata": {},
   "outputs": [
    {
     "name": "stdout",
     "output_type": "stream",
     "text": [
      "{1: 'the', 2: 'a', 3: 'to', 4: 'in', 5: 'of', 6: 'and', 7: 'i', 8: 'is', 9: 'for', 10: 'on', 11: 'you', 12: 'my', 13: 'it', 14: 'with', 15: 'that', 16: 'by', 17: 'at', 18: 'this', 19: 'from', 20: 'are', 21: 'be', 22: 'was', 23: 'have', 24: 'like', 25: 'as', 26: 'up', 27: 'just', 28: 'not', 29: 'me', 30: 'amp', 31: 'but', 32: 'your', 33: 'so', 34: 'im', 35: 'out', 36: 'no', 37: 'will', 38: 'its', 39: 'all', 40: 'after', 41: 'fire', 42: 'an', 43: 'we', 44: 'if', 45: 'when', 46: 'has', 47: 'get', 48: 'new', 49: 'via', 50: 'more', 51: 'about', 52: 'now', 53: 'or', 54: 'how', 55: 'he', 56: 'news', 57: 'what', 58: 'people', 59: 'one', 60: 'they', 61: 'dont', 62: 'who', 63: 'over', 64: 'been', 65: 'can', 66: 'do', 67: 'us', 68: 'into', 69: 'were', 70: 'emergency', 71: 'video', 72: 'there', 73: 'disaster', 74: 'would', 75: 'police', 76: 'her', 77: 'his', 78: 'than', 79: 'some', 80: 'still', 81: 'time', 82: 'got', 83: 'why', 84: 'suicide', 85: 'body', 86: 'rt', 87: 'off', 88: 'burning', 89: 'crash', 90: 'first', 91: 'storm', 92: 'them', 93: 'had', 94: 'attack', 95: 'back', 96: 'know', 97: 'california', 98: 'day', 99: 'fires', 100: 'our'}\n"
     ]
    }
   ],
   "source": [
    "import itertools \n",
    "print(dict(itertools.islice(token.index_word.items(), 100)))"
   ]
  },
  {
   "cell_type": "markdown",
   "id": "4750828e-dfe5-4e8e-ad5a-6e50971e8bdb",
   "metadata": {},
   "source": [
    "Convert the words into a token list"
   ]
  },
  {
   "cell_type": "code",
   "execution_count": 17,
   "id": "d984c93d-a6ef-49e2-a6d4-425e2be209a5",
   "metadata": {},
   "outputs": [
    {
     "name": "stdout",
     "output_type": "stream",
     "text": [
      "[[100, 5515, 20, 1, 801, 5, 18, 232, 134, 1867, 3582, 67, 39], [156, 41, 196, 777, 7946, 7947, 1365], [39, 1523, 1442, 3, 2160, 4, 708, 20, 128, 7948, 16, 1723, 36, 277, 256, 53, 2160, 4, 708, 1613, 20, 1208], [58, 4294, 1247, 256, 1613, 4, 97], [27, 82, 1443, 18, 278, 19, 5516, 2674, 25, 265, 19, 1247, 7949, 68, 2, 194], [3048, 385, 97, 1724, 848, 4, 760, 7950, 395, 3, 1209, 386, 41, 5517, 1247], [195, 73, 881, 306, 1059, 849, 279, 5, 1725, 4, 7951, 1103, 2675, 1726], [34, 10, 206, 5, 1, 2009, 6, 7, 65, 102, 2, 41, 4, 1, 4295], [327, 42, 70, 256, 1210, 52, 4, 1, 543, 850, 1, 648], [34, 2161, 15, 1, 587, 8, 233, 3, 100, 451], [495, 58, 496, 19, 1, 266, 416, 33, 544], [882, 608, 2676, 8, 221, 2677, 4296, 673, 2, 649, 7, 186, 4, 608, 2676, 57, 143, 7, 234, 140, 66, 57, 143, 7, 234, 140, 66, 7952, 279], [3583, 279, 2010, 7953, 2676, 53, 588, 294, 802, 4297], [195, 4, 5518, 992, 43, 1614, 5518], [239, 3, 194, 452, 10, 4, 4298, 119, 89, 328], [632, 26, 104], [7, 105, 5519], [250, 8, 1615], [12, 119, 8, 33, 830], [57, 2, 7954], [18, 8, 3584], [1060, 8, 609], [105, 7955], [57, 2, 2400, 98], [7956], [36, 7957, 109, 1248, 15, 209], [22, 4, 1366, 123, 349], [105, 12, 2678], [7958], [66, 11, 24, 4299]]\n"
     ]
    }
   ],
   "source": [
    "encoded_train_text = token.texts_to_sequences(train_text)\n",
    "print(encoded_train_text[:30])"
   ]
  },
  {
   "cell_type": "code",
   "execution_count": 18,
   "id": "20e314e9-8923-45c7-9910-ad73f00fb7fb",
   "metadata": {},
   "outputs": [
    {
     "name": "stdout",
     "output_type": "stream",
     "text": [
      "[[27, 765, 2, 1448, 119, 89], [352, 51, 232, 8, 1284, 1803, 637, 1414, 246], [72, 8, 2, 156, 41, 17, 791, 2663, 15304, 20, 4556, 850, 1, 648, 7, 65, 28, 340, 92, 39], [341, 3245, 5660, 1247], [516, 757, 331, 4, 949, 6, 1243], [69, 15305, 42, 232], [3202, 741, 80, 308, 50, 120, 78, 3273, 155, 1168, 2434, 2434], [769, 54, 20, 11], [57, 2, 1173, 744], [367, 87], [36, 7, 61, 24, 1125], [15306, 61, 66, 15], [36, 61, 590, 29, 15], [57, 44], [993], [4124, 2679, 404, 8, 633, 822, 56, 41, 2787, 35, 17, 6400, 2679, 404], [37, 11, 2684, 7240, 9, 3281, 633], [15307, 15308, 15309, 7568, 738, 1900, 1012, 527, 633], [280, 240, 35, 3050], [3383, 1846, 15310, 12, 15311, 15312, 870, 15313, 870], [3007, 108, 633, 15314, 15315, 30, 15316], [88, 104, 633, 16, 15317, 7715, 49], [28, 2, 2805, 556, 58, 37, 164, 353, 6, 336, 14, 13, 1481, 38, 42, 898, 7209, 628, 55, 8, 51, 268, 1, 321, 633], [2450, 1217, 1254, 25, 184, 1900, 3439, 633, 2, 669, 315, 496, 5, 1172, 304, 25, 184, 268, 3439, 15318], [1367, 729, 633], [1, 15319, 4, 922, 5, 1, 1816, 16, 12, 224, 15320, 268, 633, 1, 277, 98, 220, 499, 6261, 26, 1, 15321, 4703, 988, 44, 13, 22, 150], [778, 15322, 633, 10, 15323, 889, 15324], [88, 15325, 570, 215, 203, 4531, 3830, 2, 820, 7423, 15326, 15327, 1231, 15328, 30, 1900, 13, 633], [2100, 31, 76, 692, 633, 14, 15329, 2563], [127, 3893, 4, 15330, 10, 15331, 3312, 1018, 3577, 6, 15332, 2625, 95, 3, 711]]\n"
     ]
    }
   ],
   "source": [
    "encoded_test_text = token.texts_to_sequences(test_text)\n",
    "print(encoded_test_text[:30])"
   ]
  },
  {
   "cell_type": "code",
   "execution_count": 19,
   "id": "9b0808cf-ef43-40b6-93bb-ace08e7d4d1d",
   "metadata": {},
   "outputs": [
    {
     "name": "stdout",
     "output_type": "stream",
     "text": [
      "31\n"
     ]
    }
   ],
   "source": [
    "# finding lenth of longest sentence in train\n",
    "import numpy as np\n",
    "\n",
    "lengths = np.array([len(inner) for inner in encoded_train_text])\n",
    "max_length = lengths.max()\n",
    "print(max_length)   # Outputs: 13\n"
   ]
  },
  {
   "cell_type": "code",
   "execution_count": 20,
   "id": "377859de-d2c2-44d0-ba1d-dea51c8772d0",
   "metadata": {},
   "outputs": [
    {
     "name": "stdout",
     "output_type": "stream",
     "text": [
      "31\n"
     ]
    }
   ],
   "source": [
    "# finding lenth of longest sentence in test\n",
    "import numpy as np\n",
    "\n",
    "lengths = np.array([len(inner) for inner in encoded_test_text])\n",
    "max_length = lengths.max()\n",
    "print(max_length)   # Outputs: 13\n"
   ]
  },
  {
   "cell_type": "markdown",
   "id": "f443709e-ab71-4644-8638-1679bc31bd07",
   "metadata": {},
   "source": [
    "### Padding\n",
    "Even though the max number of words in a tweet is 31, let us keep a max length of 50 and pad it"
   ]
  },
  {
   "cell_type": "code",
   "execution_count": 21,
   "id": "51fb2b98-ecef-4400-9391-db59f8cea3e5",
   "metadata": {},
   "outputs": [
    {
     "name": "stdout",
     "output_type": "stream",
     "text": [
      "[[ 100 5515   20 ...    0    0    0]\n",
      " [ 156   41  196 ...    0    0    0]\n",
      " [  39 1523 1442 ...    0    0    0]\n",
      " ...\n",
      " [ 297 4972  153 ...    0    0    0]\n",
      " [  75 1192   40 ...    0    0    0]\n",
      " [   1  205   50 ...    0    0    0]]\n"
     ]
    }
   ],
   "source": [
    "max_length = 50\n",
    "X = pad_sequences(encoded_train_text, maxlen=max_length, padding='post')\n",
    "print(X)"
   ]
  },
  {
   "cell_type": "code",
   "execution_count": 22,
   "id": "c2ce9586-6f75-4dc1-a824-685b446b5c60",
   "metadata": {},
   "outputs": [
    {
     "name": "stdout",
     "output_type": "stream",
     "text": [
      "[[   27   765     2 ...     0     0     0]\n",
      " [  352    51   232 ...     0     0     0]\n",
      " [   72     8     2 ...     0     0     0]\n",
      " ...\n",
      " [  811   531   406 ...     0     0     0]\n",
      " [ 4141   592   430 ...     0     0     0]\n",
      " [18546    46  2610 ...     0     0     0]]\n"
     ]
    }
   ],
   "source": [
    "max_length = 50\n",
    "X_test = pad_sequences(encoded_test_text, maxlen=max_length, padding='post')\n",
    "print(X_test)"
   ]
  },
  {
   "cell_type": "code",
   "execution_count": 23,
   "id": "50f92b3d-5c0c-4372-acc9-0749b3c7f743",
   "metadata": {},
   "outputs": [
    {
     "data": {
      "text/plain": [
       "(7613, 50)"
      ]
     },
     "execution_count": 23,
     "metadata": {},
     "output_type": "execute_result"
    }
   ],
   "source": [
    "X.shape"
   ]
  },
  {
   "cell_type": "code",
   "execution_count": 24,
   "id": "ef2e2351-3a36-44df-ad87-4756d4461d1b",
   "metadata": {},
   "outputs": [],
   "source": [
    "X_train, X_val, y_train, y_val = train_test_split(X, y, random_state = 42, test_size = 0.2, stratify = y)"
   ]
  },
  {
   "cell_type": "markdown",
   "id": "bca6ccd0-bca0-42a4-9b13-4ad97f5bf9e9",
   "metadata": {},
   "source": [
    "Set up the RNN (Bidirectional)"
   ]
  },
  {
   "cell_type": "markdown",
   "id": "b5343134-9bca-4b98-8294-96c89289fd83",
   "metadata": {},
   "source": [
    "### Approach\n",
    "\n",
    "We need a sequence model to capture the word-by-word dependencies in tweets. Recurrent neural networks (RNNs) are a natural choice for text data, so we can use the  four variants: Plain RNN, LSTM, GRU\n",
    "\n",
    "### Why Bidirectional GRU \n",
    "- Capturing full context Tweets often convey meaning through both preceding and following words (e.g. “no signal just before the storm”). A bidirectional GRU reads the sequence in both directions, enabling the model to use future context as well as past.\n",
    "- Parameter efficiency and speed GRUs have fewer gates than LSTMs, which reduces the number of parameters and speeds up training without a significant drop in capacity. In our experiments, GRUs converged faster and required less tuning.\n",
    "\n",
    "### Pros and Cons of the different architectures\n",
    "\n",
    "- Plain RNN: lower accuracy and suffers from vanishing gradients\n",
    "- LSTM: better than RNN but slower to train\n",
    "- Unidirectional GRU: fast but misses future context\n",
    "- Bidirectional GRU: best validation accuracy (82.3%)"
   ]
  },
  {
   "cell_type": "code",
   "execution_count": 25,
   "id": "5cd92aa9-4351-4302-a468-2674fae8ea97",
   "metadata": {},
   "outputs": [
    {
     "name": "stderr",
     "output_type": "stream",
     "text": [
      "c:\\jupyternotebooks\\tf_env\\Lib\\site-packages\\keras\\src\\layers\\core\\embedding.py:97: UserWarning: Argument `input_length` is deprecated. Just remove it.\n",
      "  warnings.warn(\n"
     ]
    }
   ],
   "source": [
    "from tensorflow.keras.models      import Sequential\n",
    "from tensorflow.keras.layers      import Bidirectional, Embedding, Conv1D, MaxPooling1D, Dense, GlobalMaxPooling1D, Dropout, LSTM, GRU\n",
    "\n",
    "vec_size = 300\n",
    "\n",
    "model = Sequential()\n",
    "model.add(Embedding(vocab_size, vec_size, input_length=max_length))\n",
    "#model.add(GRU(64, return_sequences=False))\n",
    "model.add(Bidirectional(GRU(64, return_sequences=False, dropout=0.2, recurrent_dropout=0.2)))\n",
    "model.add(Dropout(0.5))\n",
    "\n",
    "model.add(Dense(1, activation='sigmoid'))"
   ]
  },
  {
   "cell_type": "code",
   "execution_count": 37,
   "id": "a69de59c-2d1e-4567-928f-e200f394fd63",
   "metadata": {
    "collapsed": true,
    "jupyter": {
     "outputs_hidden": true,
     "source_hidden": true
    }
   },
   "outputs": [
    {
     "name": "stdout",
     "output_type": "stream",
     "text": [
      "Epoch 1/5\n",
      "\u001b[1m191/191\u001b[0m \u001b[32m━━━━━━━━━━━━━━━━━━━━\u001b[0m\u001b[37m\u001b[0m \u001b[1m28s\u001b[0m 105ms/step - accuracy: 0.6319 - loss: 0.6286 - val_accuracy: 0.7840 - val_loss: 0.4588\n",
      "Epoch 2/5\n",
      "\u001b[1m191/191\u001b[0m \u001b[32m━━━━━━━━━━━━━━━━━━━━\u001b[0m\u001b[37m\u001b[0m \u001b[1m21s\u001b[0m 109ms/step - accuracy: 0.8632 - loss: 0.3349 - val_accuracy: 0.7965 - val_loss: 0.4695\n",
      "Epoch 3/5\n",
      "\u001b[1m191/191\u001b[0m \u001b[32m━━━━━━━━━━━━━━━━━━━━\u001b[0m\u001b[37m\u001b[0m \u001b[1m24s\u001b[0m 127ms/step - accuracy: 0.9288 - loss: 0.1974 - val_accuracy: 0.7892 - val_loss: 0.5358\n",
      "Epoch 4/5\n",
      "\u001b[1m191/191\u001b[0m \u001b[32m━━━━━━━━━━━━━━━━━━━━\u001b[0m\u001b[37m\u001b[0m \u001b[1m39s\u001b[0m 116ms/step - accuracy: 0.9532 - loss: 0.1439 - val_accuracy: 0.7820 - val_loss: 0.6039\n",
      "Epoch 5/5\n",
      "\u001b[1m191/191\u001b[0m \u001b[32m━━━━━━━━━━━━━━━━━━━━\u001b[0m\u001b[37m\u001b[0m \u001b[1m40s\u001b[0m 110ms/step - accuracy: 0.9722 - loss: 0.0966 - val_accuracy: 0.7873 - val_loss: 0.6643\n"
     ]
    },
    {
     "data": {
      "text/plain": [
       "<keras.src.callbacks.history.History at 0x1814fe8bb00>"
      ]
     },
     "execution_count": 37,
     "metadata": {},
     "output_type": "execute_result"
    }
   ],
   "source": [
    "from tensorflow.keras.models      import Sequential\n",
    "from tensorflow.keras.layers      import Bidirectional, Embedding, Conv1D, MaxPooling1D, Dense, GlobalMaxPooling1D, Dropout, LSTM, GRU\n",
    "\n",
    "vec_size = 150\n",
    "\n",
    "model = Sequential()\n",
    "model.add(Embedding(vocab_size, vec_size, input_length=max_length))\n",
    "#model.add(GRU(64, return_sequences=False))\n",
    "model.add(Bidirectional(GRU(32, return_sequences=False, dropout=0.2, recurrent_dropout=0.2)))\n",
    "model.add(Dropout(0.2))\n",
    "\n",
    "model.add(Dense(1, activation='sigmoid'))\n",
    "model.summary()\n",
    "model.compile(optimizer='adam', loss = 'binary_crossentropy', metrics = ['accuracy'])\n",
    "\n",
    "model.fit(X_train, y_train, epochs = 5, validation_data = (X_val, y_val))"
   ]
  },
  {
   "cell_type": "code",
   "execution_count": 34,
   "id": "3fb67ff7-2745-4e72-961b-877a9b02383d",
   "metadata": {},
   "outputs": [
    {
     "data": {
      "text/html": [
       "<pre style=\"white-space:pre;overflow-x:auto;line-height:normal;font-family:Menlo,'DejaVu Sans Mono',consolas,'Courier New',monospace\"><span style=\"font-weight: bold\">Model: \"sequential\"</span>\n",
       "</pre>\n"
      ],
      "text/plain": [
       "\u001b[1mModel: \"sequential\"\u001b[0m\n"
      ]
     },
     "metadata": {},
     "output_type": "display_data"
    },
    {
     "data": {
      "text/html": [
       "<pre style=\"white-space:pre;overflow-x:auto;line-height:normal;font-family:Menlo,'DejaVu Sans Mono',consolas,'Courier New',monospace\">┏━━━━━━━━━━━━━━━━━━━━━━━━━━━━━━━━━━━━━━┳━━━━━━━━━━━━━━━━━━━━━━━━━━━━━┳━━━━━━━━━━━━━━━━━┓\n",
       "┃<span style=\"font-weight: bold\"> Layer (type)                         </span>┃<span style=\"font-weight: bold\"> Output Shape                </span>┃<span style=\"font-weight: bold\">         Param # </span>┃\n",
       "┡━━━━━━━━━━━━━━━━━━━━━━━━━━━━━━━━━━━━━━╇━━━━━━━━━━━━━━━━━━━━━━━━━━━━━╇━━━━━━━━━━━━━━━━━┩\n",
       "│ embedding (<span style=\"color: #0087ff; text-decoration-color: #0087ff\">Embedding</span>)                │ (<span style=\"color: #00d7ff; text-decoration-color: #00d7ff\">None</span>, <span style=\"color: #00af00; text-decoration-color: #00af00\">50</span>, <span style=\"color: #00af00; text-decoration-color: #00af00\">300</span>)             │       <span style=\"color: #00af00; text-decoration-color: #00af00\">5,564,100</span> │\n",
       "├──────────────────────────────────────┼─────────────────────────────┼─────────────────┤\n",
       "│ bidirectional (<span style=\"color: #0087ff; text-decoration-color: #0087ff\">Bidirectional</span>)        │ (<span style=\"color: #00d7ff; text-decoration-color: #00d7ff\">None</span>, <span style=\"color: #00af00; text-decoration-color: #00af00\">128</span>)                 │         <span style=\"color: #00af00; text-decoration-color: #00af00\">140,544</span> │\n",
       "├──────────────────────────────────────┼─────────────────────────────┼─────────────────┤\n",
       "│ dropout (<span style=\"color: #0087ff; text-decoration-color: #0087ff\">Dropout</span>)                    │ (<span style=\"color: #00d7ff; text-decoration-color: #00d7ff\">None</span>, <span style=\"color: #00af00; text-decoration-color: #00af00\">128</span>)                 │               <span style=\"color: #00af00; text-decoration-color: #00af00\">0</span> │\n",
       "├──────────────────────────────────────┼─────────────────────────────┼─────────────────┤\n",
       "│ dense (<span style=\"color: #0087ff; text-decoration-color: #0087ff\">Dense</span>)                        │ (<span style=\"color: #00d7ff; text-decoration-color: #00d7ff\">None</span>, <span style=\"color: #00af00; text-decoration-color: #00af00\">1</span>)                   │             <span style=\"color: #00af00; text-decoration-color: #00af00\">129</span> │\n",
       "└──────────────────────────────────────┴─────────────────────────────┴─────────────────┘\n",
       "</pre>\n"
      ],
      "text/plain": [
       "┏━━━━━━━━━━━━━━━━━━━━━━━━━━━━━━━━━━━━━━┳━━━━━━━━━━━━━━━━━━━━━━━━━━━━━┳━━━━━━━━━━━━━━━━━┓\n",
       "┃\u001b[1m \u001b[0m\u001b[1mLayer (type)                        \u001b[0m\u001b[1m \u001b[0m┃\u001b[1m \u001b[0m\u001b[1mOutput Shape               \u001b[0m\u001b[1m \u001b[0m┃\u001b[1m \u001b[0m\u001b[1m        Param #\u001b[0m\u001b[1m \u001b[0m┃\n",
       "┡━━━━━━━━━━━━━━━━━━━━━━━━━━━━━━━━━━━━━━╇━━━━━━━━━━━━━━━━━━━━━━━━━━━━━╇━━━━━━━━━━━━━━━━━┩\n",
       "│ embedding (\u001b[38;5;33mEmbedding\u001b[0m)                │ (\u001b[38;5;45mNone\u001b[0m, \u001b[38;5;34m50\u001b[0m, \u001b[38;5;34m300\u001b[0m)             │       \u001b[38;5;34m5,564,100\u001b[0m │\n",
       "├──────────────────────────────────────┼─────────────────────────────┼─────────────────┤\n",
       "│ bidirectional (\u001b[38;5;33mBidirectional\u001b[0m)        │ (\u001b[38;5;45mNone\u001b[0m, \u001b[38;5;34m128\u001b[0m)                 │         \u001b[38;5;34m140,544\u001b[0m │\n",
       "├──────────────────────────────────────┼─────────────────────────────┼─────────────────┤\n",
       "│ dropout (\u001b[38;5;33mDropout\u001b[0m)                    │ (\u001b[38;5;45mNone\u001b[0m, \u001b[38;5;34m128\u001b[0m)                 │               \u001b[38;5;34m0\u001b[0m │\n",
       "├──────────────────────────────────────┼─────────────────────────────┼─────────────────┤\n",
       "│ dense (\u001b[38;5;33mDense\u001b[0m)                        │ (\u001b[38;5;45mNone\u001b[0m, \u001b[38;5;34m1\u001b[0m)                   │             \u001b[38;5;34m129\u001b[0m │\n",
       "└──────────────────────────────────────┴─────────────────────────────┴─────────────────┘\n"
      ]
     },
     "metadata": {},
     "output_type": "display_data"
    },
    {
     "data": {
      "text/html": [
       "<pre style=\"white-space:pre;overflow-x:auto;line-height:normal;font-family:Menlo,'DejaVu Sans Mono',consolas,'Courier New',monospace\"><span style=\"font-weight: bold\"> Total params: </span><span style=\"color: #00af00; text-decoration-color: #00af00\">17,114,321</span> (65.29 MB)\n",
       "</pre>\n"
      ],
      "text/plain": [
       "\u001b[1m Total params: \u001b[0m\u001b[38;5;34m17,114,321\u001b[0m (65.29 MB)\n"
      ]
     },
     "metadata": {},
     "output_type": "display_data"
    },
    {
     "data": {
      "text/html": [
       "<pre style=\"white-space:pre;overflow-x:auto;line-height:normal;font-family:Menlo,'DejaVu Sans Mono',consolas,'Courier New',monospace\"><span style=\"font-weight: bold\"> Trainable params: </span><span style=\"color: #00af00; text-decoration-color: #00af00\">5,704,773</span> (21.76 MB)\n",
       "</pre>\n"
      ],
      "text/plain": [
       "\u001b[1m Trainable params: \u001b[0m\u001b[38;5;34m5,704,773\u001b[0m (21.76 MB)\n"
      ]
     },
     "metadata": {},
     "output_type": "display_data"
    },
    {
     "data": {
      "text/html": [
       "<pre style=\"white-space:pre;overflow-x:auto;line-height:normal;font-family:Menlo,'DejaVu Sans Mono',consolas,'Courier New',monospace\"><span style=\"font-weight: bold\"> Non-trainable params: </span><span style=\"color: #00af00; text-decoration-color: #00af00\">0</span> (0.00 B)\n",
       "</pre>\n"
      ],
      "text/plain": [
       "\u001b[1m Non-trainable params: \u001b[0m\u001b[38;5;34m0\u001b[0m (0.00 B)\n"
      ]
     },
     "metadata": {},
     "output_type": "display_data"
    },
    {
     "data": {
      "text/html": [
       "<pre style=\"white-space:pre;overflow-x:auto;line-height:normal;font-family:Menlo,'DejaVu Sans Mono',consolas,'Courier New',monospace\"><span style=\"font-weight: bold\"> Optimizer params: </span><span style=\"color: #00af00; text-decoration-color: #00af00\">11,409,548</span> (43.52 MB)\n",
       "</pre>\n"
      ],
      "text/plain": [
       "\u001b[1m Optimizer params: \u001b[0m\u001b[38;5;34m11,409,548\u001b[0m (43.52 MB)\n"
      ]
     },
     "metadata": {},
     "output_type": "display_data"
    }
   ],
   "source": [
    "model.summary()"
   ]
  },
  {
   "cell_type": "code",
   "execution_count": 26,
   "id": "de8fd23c-6802-480c-815b-8c7dc8979fcd",
   "metadata": {},
   "outputs": [],
   "source": [
    "model.compile(optimizer='adam', loss = 'binary_crossentropy', metrics = ['accuracy'])"
   ]
  },
  {
   "cell_type": "code",
   "execution_count": 27,
   "id": "c6a8a2f0-c472-4a42-82b4-bf8c32c147b9",
   "metadata": {},
   "outputs": [
    {
     "name": "stdout",
     "output_type": "stream",
     "text": [
      "Epoch 1/5\n",
      "\u001b[1m191/191\u001b[0m \u001b[32m━━━━━━━━━━━━━━━━━━━━\u001b[0m\u001b[37m\u001b[0m \u001b[1m28s\u001b[0m 100ms/step - accuracy: 0.6514 - loss: 0.6120 - val_accuracy: 0.8063 - val_loss: 0.4375\n",
      "Epoch 2/5\n",
      "\u001b[1m191/191\u001b[0m \u001b[32m━━━━━━━━━━━━━━━━━━━━\u001b[0m\u001b[37m\u001b[0m \u001b[1m19s\u001b[0m 90ms/step - accuracy: 0.8670 - loss: 0.3200 - val_accuracy: 0.7925 - val_loss: 0.4842\n",
      "Epoch 3/5\n",
      "\u001b[1m191/191\u001b[0m \u001b[32m━━━━━━━━━━━━━━━━━━━━\u001b[0m\u001b[37m\u001b[0m \u001b[1m18s\u001b[0m 96ms/step - accuracy: 0.9312 - loss: 0.1940 - val_accuracy: 0.7814 - val_loss: 0.5316\n",
      "Epoch 4/5\n",
      "\u001b[1m191/191\u001b[0m \u001b[32m━━━━━━━━━━━━━━━━━━━━\u001b[0m\u001b[37m\u001b[0m \u001b[1m18s\u001b[0m 94ms/step - accuracy: 0.9552 - loss: 0.1285 - val_accuracy: 0.7682 - val_loss: 0.6654\n",
      "Epoch 5/5\n",
      "\u001b[1m191/191\u001b[0m \u001b[32m━━━━━━━━━━━━━━━━━━━━\u001b[0m\u001b[37m\u001b[0m \u001b[1m21s\u001b[0m 96ms/step - accuracy: 0.9698 - loss: 0.0916 - val_accuracy: 0.7820 - val_loss: 0.7069\n",
      "CPU times: total: 7min 44s\n",
      "Wall time: 1min 45s\n"
     ]
    }
   ],
   "source": [
    "%%time\n",
    "history=model.fit(X_train, y_train, epochs = 5, validation_data = (X_val, y_val))"
   ]
  },
  {
   "cell_type": "code",
   "execution_count": 28,
   "id": "1d3ceabf-9717-4ed0-93b2-ec5b81423e4e",
   "metadata": {},
   "outputs": [
    {
     "data": {
      "image/png": "[encoded data removed]",
      "text/plain": [
       "<Figure size 640x480 with 1 Axes>"
      ]
     },
     "metadata": {},
     "output_type": "display_data"
    }
   ],
   "source": [
    "# Accuracy vs Epoch\n",
    "plt.title('Accuracy')\n",
    "plt.plot(history.history['accuracy'], label='train')\n",
    "plt.plot(history.history['val_accuracy'], label='test')\n",
    "plt.legend()\n",
    "plt.show();"
   ]
  },
  {
   "cell_type": "markdown",
   "id": "65955513-1c2e-4f57-bb74-fb99d0203028",
   "metadata": {},
   "source": [
    "It seems that our model started overitting from epoch 2 itself. "
   ]
  },
  {
   "cell_type": "markdown",
   "id": "6531e3a0-8151-4b6c-ac7c-2de0653989e8",
   "metadata": {},
   "source": [
    "But, for the purposes of this competition, let us use the model from epoch 5 and see what kaggle competition score is"
   ]
  },
  {
   "cell_type": "code",
   "execution_count": 80,
   "id": "2ef0e917-759b-4a0c-8819-2038089e0876",
   "metadata": {},
   "outputs": [
    {
     "data": {
      "text/html": [
       "<div>\n",
       "<style scoped>\n",
       "    .dataframe tbody tr th:only-of-type {\n",
       "        vertical-align: middle;\n",
       "    }\n",
       "\n",
       "    .dataframe tbody tr th {\n",
       "        vertical-align: top;\n",
       "    }\n",
       "\n",
       "    .dataframe thead th {\n",
       "        text-align: right;\n",
       "    }\n",
       "</style>\n",
       "<table border=\"1\" class=\"dataframe\">\n",
       "  <thead>\n",
       "    <tr style=\"text-align: right;\">\n",
       "      <th></th>\n",
       "      <th>id</th>\n",
       "      <th>target</th>\n",
       "    </tr>\n",
       "  </thead>\n",
       "  <tbody>\n",
       "    <tr>\n",
       "      <th>0</th>\n",
       "      <td>0</td>\n",
       "      <td>0</td>\n",
       "    </tr>\n",
       "    <tr>\n",
       "      <th>1</th>\n",
       "      <td>2</td>\n",
       "      <td>0</td>\n",
       "    </tr>\n",
       "    <tr>\n",
       "      <th>2</th>\n",
       "      <td>3</td>\n",
       "      <td>0</td>\n",
       "    </tr>\n",
       "    <tr>\n",
       "      <th>3</th>\n",
       "      <td>9</td>\n",
       "      <td>0</td>\n",
       "    </tr>\n",
       "    <tr>\n",
       "      <th>4</th>\n",
       "      <td>11</td>\n",
       "      <td>0</td>\n",
       "    </tr>\n",
       "  </tbody>\n",
       "</table>\n",
       "</div>"
      ],
      "text/plain": [
       "   id  target\n",
       "0   0       0\n",
       "1   2       0\n",
       "2   3       0\n",
       "3   9       0\n",
       "4  11       0"
      ]
     },
     "execution_count": 80,
     "metadata": {},
     "output_type": "execute_result"
    }
   ],
   "source": [
    "#sample_submission = pd.read_csv(\"/kaggle/input/nlp-getting-started/sample_submission.csv\")\n",
    "sample_submission = pd.read_csv(\"data/sample_submission.csv\")\n",
    "sample_submission.head(5)"
   ]
  },
  {
   "cell_type": "code",
   "execution_count": 75,
   "id": "bc1c64ec-dfa6-45bc-85b0-f85cad37f017",
   "metadata": {},
   "outputs": [
    {
     "name": "stdout",
     "output_type": "stream",
     "text": [
      "\u001b[1m51/51\u001b[0m \u001b[32m━━━━━━━━━━━━━━━━━━━━\u001b[0m\u001b[37m\u001b[0m \u001b[1m1s\u001b[0m 17ms/step\n",
      "Submission saved to submission.csv\n"
     ]
    }
   ],
   "source": [
    "\n",
    "# Predict probabilities for the positive class\n",
    "y_pred_prob = model.predict(X_test, batch_size=64).ravel()\n",
    "\n",
    "# generate binary labels:\n",
    "y_pred_label = (y_pred_prob >= 0.5).astype(int)\n",
    "\n",
    "# Build submission DataFrame\n",
    "submission = pd.DataFrame({\n",
    "    \"id\": sample_submission[\"id\"],\n",
    "    \"target\": y_pred_label      # or y_pred_prob if probabilities required\n",
    "})\n",
    "\n",
    "submission.to_csv(\"submission.csv\", index=False)\n",
    "print(\"Submission saved to submission.csv\")"
   ]
  },
  {
   "cell_type": "markdown",
   "id": "918115dc-6be8-4c28-ba16-3e2066ed1ca9",
   "metadata": {},
   "source": [
    "### Parameter tuning"
   ]
  },
  {
   "cell_type": "code",
   "execution_count": null,
   "id": "f806927c-3306-489c-9c36-e695e3a65817",
   "metadata": {},
   "outputs": [],
   "source": [
    "hyperparams = [\n",
    "    {'embedding_dim': 128, 'units': 64, 'dropout': 0.2},   # baseline\n",
    "    {'embedding_dim': 128, 'units': 128, 'dropout': 0.3},  # increased units, higher dropout\n",
    "    {'embedding_dim': 200, 'units': 100, 'dropout': 0.4},  # larger embedding, medium units, high dropout\n",
    "    {'embedding_dim': 256, 'units': 64, 'dropout': 0.2},   # larger embedding, baseline units & dropout\n",
    "    {'embedding_dim': 100, 'units': 32, 'dropout': 0.1},   # smoller model\n",
    "    {'embedding_dim': 150, 'units': 150, 'dropout': 0.3}   # equal embedding and units\n",
    "]\n",
    "fine_tuned_models = []"
   ]
  },
  {
   "cell_type": "code",
   "execution_count": 48,
   "id": "3d9de249-7253-49dd-9d11-e03084611e11",
   "metadata": {},
   "outputs": [
    {
     "name": "stdout",
     "output_type": "stream",
     "text": [
      "Trial 20 Complete [00h 11m 02s]\n",
      "val_accuracy: 0.8063033223152161\n",
      "\n",
      "Best val_accuracy So Far: 0.8227183222770691\n",
      "Total elapsed time: 01h 36m 43s\n"
     ]
    }
   ],
   "source": [
    "import kerastuner as kt\n",
    "from tensorflow.keras.models    import Sequential\n",
    "from tensorflow.keras.layers    import Embedding, Bidirectional, LSTM, Dropout, Dense\n",
    "from tensorflow.keras.optimizers import Adam, RMSprop, Nadam\n",
    "\n",
    "def build_model(hp):\n",
    "    model = Sequential()\n",
    "\n",
    "    # Embedding layer\n",
    "    emb_dim = hp.Choice(\"embedding_dim\", [100, 200, 300])\n",
    "    model.add(Embedding(vocab_size, emb_dim, input_length=max_length))\n",
    "\n",
    "    # Stacked Bidirectional LSTM layers\n",
    "    for i in range(hp.Int(\"num_lstm_layers\", 1, 2)):\n",
    "        units = hp.Int(f\"lstm_units_{i}\", 32, 256, step=32)\n",
    "        dr    = hp.Float(f\"dropout_rate_{i}\", 0.0, 0.5, step=0.1)\n",
    "        rdr   = hp.Float(f\"recurrent_dropout_{i}\", 0.0, 0.5, step=0.1)\n",
    "\n",
    "        lstm = LSTM(units,\n",
    "                    return_sequences=(i < hp.get(\"num_lstm_layers\") - 1),\n",
    "                    dropout=dr,\n",
    "                    recurrent_dropout=rdr)\n",
    "        model.add(Bidirectional(lstm))\n",
    "\n",
    "    # Final dropout and output\n",
    "    model.add(Dropout(hp.Float(\"final_dropout\", 0.0, 0.5, step=0.1)))\n",
    "    model.add(Dense(1, activation=\"sigmoid\"))\n",
    "\n",
    "    # Optimizer and learning rate\n",
    "    opt_choice = hp.Choice(\"optimizer\", [\"adam\", \"rmsprop\", \"nadam\"])\n",
    "    lr         = hp.Float(\"learning_rate\", 1e-4, 1e-2, sampling=\"log\")\n",
    "    optimizers = {\n",
    "        \"adam\":   Adam(learning_rate=lr),\n",
    "        \"rmsprop\": RMSprop(learning_rate=lr),\n",
    "        \"nadam\":  Nadam(learning_rate=lr)\n",
    "    }\n",
    "    model.compile(\n",
    "        optimizer=optimizers[opt_choice],\n",
    "        loss=\"binary_crossentropy\",\n",
    "        metrics=[\"accuracy\"]\n",
    "    )\n",
    "    return model\n",
    "\n",
    "tuner = kt.RandomSearch(\n",
    "    build_model,\n",
    "    objective=\"val_accuracy\",\n",
    "    max_trials=20,\n",
    "    executions_per_trial=1,\n",
    "    directory=\"tuner_logs\",\n",
    "    project_name=\"bidirectional_lstm_tuning\"\n",
    ")\n",
    "\n",
    "tuner.search(\n",
    "    X_train, y_train,\n",
    "    epochs=5,\n",
    "    validation_data=(X_val, y_val),\n",
    "    batch_size=64   # ← fixed int, not hp.Choice\n",
    ")\n",
    "\n",
    "#tuner.search(\n",
    "#    X_train, y_train,\n",
    "#    epochs=5,\n",
    "#    validation_data=(X_val, y_val),\n",
    "#    batch_size=hp.Choice(\"batch_size\", [32, 64, 128])\n",
    "#)\n",
    "# history=model.fit(X_train, y_train, epochs = 5, validation_data = (X_val, y_val))"
   ]
  },
  {
   "cell_type": "code",
   "execution_count": 51,
   "id": "414130cb-2064-4db6-84e5-fc014776e7f1",
   "metadata": {},
   "outputs": [
    {
     "name": "stdout",
     "output_type": "stream",
     "text": [
      "Results summary\n",
      "Results in tuner_logs\\bidirectional_lstm_tuning\n",
      "Showing 10 best trials\n",
      "Objective(name=\"val_accuracy\", direction=\"max\")\n",
      "\n",
      "Trial 11 summary\n",
      "Hyperparameters:\n",
      "embedding_dim: 200\n",
      "num_lstm_layers: 2\n",
      "lstm_units_0: 32\n",
      "dropout_rate_0: 0.0\n",
      "recurrent_dropout_0: 0.4\n",
      "final_dropout: 0.0\n",
      "optimizer: nadam\n",
      "learning_rate: 0.0001955166116437237\n",
      "lstm_units_1: 128\n",
      "dropout_rate_1: 0.0\n",
      "recurrent_dropout_1: 0.2\n",
      "Score: 0.8227183222770691\n",
      "\n",
      "Trial 03 summary\n",
      "Hyperparameters:\n",
      "embedding_dim: 200\n",
      "num_lstm_layers: 2\n",
      "lstm_units_0: 32\n",
      "dropout_rate_0: 0.2\n",
      "recurrent_dropout_0: 0.30000000000000004\n",
      "final_dropout: 0.0\n",
      "optimizer: nadam\n",
      "learning_rate: 0.0003596258892348532\n",
      "lstm_units_1: 32\n",
      "dropout_rate_1: 0.0\n",
      "recurrent_dropout_1: 0.0\n",
      "Score: 0.813525915145874\n",
      "\n",
      "Trial 06 summary\n",
      "Hyperparameters:\n",
      "embedding_dim: 300\n",
      "num_lstm_layers: 1\n",
      "lstm_units_0: 256\n",
      "dropout_rate_0: 0.0\n",
      "recurrent_dropout_0: 0.0\n",
      "final_dropout: 0.0\n",
      "optimizer: adam\n",
      "learning_rate: 0.0003304619665103422\n",
      "lstm_units_1: 96\n",
      "dropout_rate_1: 0.30000000000000004\n",
      "recurrent_dropout_1: 0.0\n",
      "Score: 0.813525915145874\n",
      "\n",
      "Trial 15 summary\n",
      "Hyperparameters:\n",
      "embedding_dim: 200\n",
      "num_lstm_layers: 1\n",
      "lstm_units_0: 96\n",
      "dropout_rate_0: 0.30000000000000004\n",
      "recurrent_dropout_0: 0.4\n",
      "final_dropout: 0.0\n",
      "optimizer: nadam\n",
      "learning_rate: 0.00026679699283911065\n",
      "lstm_units_1: 224\n",
      "dropout_rate_1: 0.0\n",
      "recurrent_dropout_1: 0.4\n",
      "Score: 0.8095863461494446\n",
      "\n",
      "Trial 17 summary\n",
      "Hyperparameters:\n",
      "embedding_dim: 300\n",
      "num_lstm_layers: 1\n",
      "lstm_units_0: 128\n",
      "dropout_rate_0: 0.2\n",
      "recurrent_dropout_0: 0.30000000000000004\n",
      "final_dropout: 0.2\n",
      "optimizer: adam\n",
      "learning_rate: 0.0001527416712860621\n",
      "lstm_units_1: 128\n",
      "dropout_rate_1: 0.30000000000000004\n",
      "recurrent_dropout_1: 0.1\n",
      "Score: 0.8076165318489075\n",
      "\n",
      "Trial 01 summary\n",
      "Hyperparameters:\n",
      "embedding_dim: 100\n",
      "num_lstm_layers: 1\n",
      "lstm_units_0: 32\n",
      "dropout_rate_0: 0.2\n",
      "recurrent_dropout_0: 0.30000000000000004\n",
      "final_dropout: 0.0\n",
      "optimizer: adam\n",
      "learning_rate: 0.0006859193583509903\n",
      "Score: 0.8069599270820618\n",
      "\n",
      "Trial 04 summary\n",
      "Hyperparameters:\n",
      "embedding_dim: 300\n",
      "num_lstm_layers: 1\n",
      "lstm_units_0: 192\n",
      "dropout_rate_0: 0.0\n",
      "recurrent_dropout_0: 0.2\n",
      "final_dropout: 0.1\n",
      "optimizer: nadam\n",
      "learning_rate: 0.0004005686120572068\n",
      "lstm_units_1: 128\n",
      "dropout_rate_1: 0.30000000000000004\n",
      "recurrent_dropout_1: 0.30000000000000004\n",
      "Score: 0.8063033223152161\n",
      "\n",
      "Trial 19 summary\n",
      "Hyperparameters:\n",
      "embedding_dim: 200\n",
      "num_lstm_layers: 1\n",
      "lstm_units_0: 192\n",
      "dropout_rate_0: 0.2\n",
      "recurrent_dropout_0: 0.2\n",
      "final_dropout: 0.4\n",
      "optimizer: nadam\n",
      "learning_rate: 0.0004101920412600361\n",
      "lstm_units_1: 128\n",
      "dropout_rate_1: 0.30000000000000004\n",
      "recurrent_dropout_1: 0.1\n",
      "Score: 0.8063033223152161\n",
      "\n",
      "Trial 10 summary\n",
      "Hyperparameters:\n",
      "embedding_dim: 100\n",
      "num_lstm_layers: 2\n",
      "lstm_units_0: 128\n",
      "dropout_rate_0: 0.2\n",
      "recurrent_dropout_0: 0.0\n",
      "final_dropout: 0.30000000000000004\n",
      "optimizer: nadam\n",
      "learning_rate: 0.0002379787986249758\n",
      "lstm_units_1: 96\n",
      "dropout_rate_1: 0.2\n",
      "recurrent_dropout_1: 0.4\n",
      "Score: 0.8056467771530151\n",
      "\n",
      "Trial 09 summary\n",
      "Hyperparameters:\n",
      "embedding_dim: 200\n",
      "num_lstm_layers: 2\n",
      "lstm_units_0: 96\n",
      "dropout_rate_0: 0.30000000000000004\n",
      "recurrent_dropout_0: 0.2\n",
      "final_dropout: 0.30000000000000004\n",
      "optimizer: nadam\n",
      "learning_rate: 0.004390424644865123\n",
      "lstm_units_1: 224\n",
      "dropout_rate_1: 0.0\n",
      "recurrent_dropout_1: 0.1\n",
      "Score: 0.8049901723861694\n",
      "Best embedding_dim: 200\n",
      "Number of LSTM layers: 2\n",
      "  lstm_units_0: 32\n",
      "  dropout_rate_0: 0.0\n",
      "  recurrent_dropout_0: 0.4\n",
      "  lstm_units_1: 128\n",
      "  dropout_rate_1: 0.0\n",
      "  recurrent_dropout_1: 0.2\n",
      "Final dropout: 0.0\n",
      "Optimizer: nadam\n",
      "Learning rate: 0.0001955166116437237\n"
     ]
    }
   ],
   "source": [
    "# 1. Print a summary of all trials\n",
    "tuner.results_summary()\n",
    "\n",
    "# 2. Get the single best HyperParameters object\n",
    "best_hp = tuner.get_best_hyperparameters(num_trials=1)[0]\n",
    "\n",
    "# 3. Inspect the winning hyperparameters\n",
    "print(\"Best embedding_dim:\",      best_hp.get(\"embedding_dim\"))\n",
    "print(\"Number of LSTM layers:\",   best_hp.get(\"num_lstm_layers\"))\n",
    "for i in range(best_hp.get(\"num_lstm_layers\")):\n",
    "    print(f\"  lstm_units_{i}:\",     best_hp.get(f\"lstm_units_{i}\"))\n",
    "    print(f\"  dropout_rate_{i}:\",   best_hp.get(f\"dropout_rate_{i}\"))\n",
    "    print(f\"  recurrent_dropout_{i}:\", best_hp.get(f\"recurrent_dropout_{i}\"))\n",
    "print(\"Final dropout:\",           best_hp.get(\"final_dropout\"))\n",
    "print(\"Optimizer:\",               best_hp.get(\"optimizer\"))\n",
    "print(\"Learning rate:\",           best_hp.get(\"learning_rate\"))\n"
   ]
  },
  {
   "cell_type": "markdown",
   "id": "3d899f87-3e57-4b4c-931d-6c63f9b3b829",
   "metadata": {},
   "source": [
    "### Conclusion\n",
    "This project demonstrates that recurrent neural networks can effectively classify disaster-related tweets. \n",
    "\n",
    "There remains room for enhancement. Future work could include:\n",
    "\n",
    "Integrating pre-trained word embeddings (GloVe, Word2Vec) to leverage broader semantic knowledge.\n",
    "\n",
    "Experimenting with more advanced architectures .\n",
    "\n",
    "Applying cross-validation for a more robust assessment of model generalization.\n",
    "\n",
    "By incorporating embeddings trained on large corpora and exploring richer network designs, we can further boost the model’s ability to distinguish genuine disaster tweets from figurative language."
   ]
  },
  {
   "cell_type": "code",
   "execution_count": null,
   "id": "6425b661-9f84-4366-8fdb-ba79d6f11d51",
   "metadata": {},
   "outputs": [],
   "source": []
  }
 ],
 "metadata": {
  "kernelspec": {
   "display_name": "Python 3 (ipykernel)",
   "language": "python",
   "name": "python3"
  },
  "language_info": {
   "codemirror_mode": {
    "name": "ipython",
    "version": 3
   },
   "file_extension": ".py",
   "mimetype": "text/x-python",
   "name": "python",
   "nbconvert_exporter": "python",
   "pygments_lexer": "ipython3",
   "version": "3.12.10"
  }
 },
 "nbformat": 4,
 "nbformat_minor": 5
}
